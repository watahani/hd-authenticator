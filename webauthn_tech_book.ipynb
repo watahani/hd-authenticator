{
 "cells": [
  {
   "cell_type": "markdown",
   "metadata": {},
   "source": [
    "# HDAuthenticator\n",
    "\n",
    "HD(Hierarchy Deterministic) にキーペアを生成する Authenticator。\n",
    "サンプルなのでサインしかできない。"
   ]
  },
  {
   "cell_type": "markdown",
   "metadata": {},
   "source": [
    "## ecdsa を使ってみる\n",
    "ecdsa のライブラリは `pip install ecdsa` でインストールする。"
   ]
  },
  {
   "cell_type": "code",
   "execution_count": 1,
   "metadata": {},
   "outputs": [
    {
     "name": "stdout",
     "output_type": "stream",
     "text": [
      "prikey:  1bab84e687e36514eeaf5a017c30d32c1f59dd4ea6629da7970ca374513dd006\n",
      "sign  :  3e142e7cbeffb4502e022cb2e885086752cfc1beed066e03c7e00aee6a99e3b98a7a7913eaf6968fac16454f030ea6b40516b1f267bd7a5a77d850b242001624\n",
      "pub   :  18684cfb6aefc8a7e4c08b4bad03fcd167c6e7401fe80997e8298f9f174cfe321bf0e1edbae7b3f1f1942eefcaf0a3bedb85829c2ece5da9526071ca88be21fc\n",
      "verified:  True\n"
     ]
    }
   ],
   "source": [
    "import ecdsa\n",
    "\n",
    "prikey_str = bytes.fromhex(\n",
    " '1bab84e687e36514eeaf5a017c30d32c1f59dd4ea6629da7970ca374513dd006'\n",
    ")\n",
    "prikey = ecdsa.SigningKey.from_string(prikey_str, curve=ecdsa.SECP256k1)\n",
    "\n",
    "print('prikey: ',prikey_str.hex())\n",
    "# prikey:  1bab84e687e36514eeaf5a017c30d32c1f59dd4ea6629da7970ca374513dd006\n",
    "\n",
    "data = b'hello'\n",
    "sign = prikey.sign(data)\n",
    "print('sign  : ', sign.hex()) \n",
    "# sign  :  82f15f67976b1b397eac6b13235220c4b6a32f75db03bd5....\n",
    "\n",
    "pubkey = prikey.get_verifying_key()\n",
    "\n",
    "print(\"pub   : \",  pubkey.to_string().hex())\n",
    "# pub   :  18684cfb6aefc8a7e4c08b4bad03fcd167c6e7401fe8099....\n",
    "\n",
    "print(\"verified: \", pubkey.verify(sign, data))\n",
    "# verified:  True"
   ]
  },
  {
   "cell_type": "markdown",
   "metadata": {},
   "source": [
    "## add secret key\n",
    "\n",
    "秘密鍵を合成する関数。\n",
    "単に int 同士の足し算をしているだけ。秘密鍵の長さあふれた分は捨てる。\n",
    "なぜ big エンディアンである必要があるかは不明。"
   ]
  },
  {
   "cell_type": "code",
   "execution_count": 2,
   "metadata": {},
   "outputs": [],
   "source": [
    "from math import log2\n",
    "\n",
    "def add_secret_keys(*args, order):\n",
    "    ''' add two prikey as int and return private key of ecdsa lib'''\n",
    "    prikey = 0\n",
    "\n",
    "    for key in args:\n",
    "        if prikey == 0:\n",
    "            prikey = int.from_bytes(key, \"big\")\n",
    "        else:\n",
    "            prikey = (prikey + int.from_bytes(key, \"big\")) % order\n",
    "\n",
    "    return prikey.to_bytes( int(log2(order)/8), 'big')\n"
   ]
  },
  {
   "cell_type": "markdown",
   "metadata": {},
   "source": [
    "### 試しに足してみる\n"
   ]
  },
  {
   "cell_type": "code",
   "execution_count": 3,
   "metadata": {},
   "outputs": [
    {
     "name": "stdout",
     "output_type": "stream",
     "text": [
      "375709cd0fc6ca29dd5eb402f861a6583eb3ba9d4cc53b4f2e1946e8a27ba00c\n",
      "True\n"
     ]
    }
   ],
   "source": [
    "k1 = '1bab84e687e36514eeaf5a017c30d32c1f59dd4ea6629da7970ca374513dd006'\n",
    "k2 = '375709cd0fc6ca29dd5eb402f861a6583eb3ba9d4cc53b4f2e1946e8a27ba00c'\n",
    "key1 = bytes.fromhex(k1)\n",
    "expect = bytes.fromhex(k2)\n",
    "\n",
    "result = add_secret_keys(key1, key1, order=ecdsa.SECP256k1.order )\n",
    "print(result.hex())\n",
    "print(result == expect)\n"
   ]
  },
  {
   "cell_type": "markdown",
   "metadata": {},
   "source": [
    "## 公開鍵の加算\n",
    "公開鍵（楕円曲線上の点）の加算を計算します。"
   ]
  },
  {
   "cell_type": "code",
   "execution_count": 4,
   "metadata": {},
   "outputs": [
    {
     "name": "stdout",
     "output_type": "stream",
     "text": [
      "e0cf532282ef286226bece17f2e055d9bd54561883eaff73e14746765df64b3d16ed44e41c5c057ca009ccfac39f2b22ceed7c1e9d2404915576fffc27cf5cb9\n",
      "True\n"
     ]
    }
   ],
   "source": [
    "k1 = bytes.fromhex(\n",
    "  '1bab84e687e36514eeaf5a017c30d32c1f59dd4ea6629da7970ca374513dd006'\n",
    ")\n",
    "\n",
    "\n",
    "k1p = ecdsa.SigningKey.from_string(k1, curve=ecdsa.SECP256k1).get_verifying_key()\n",
    "\n",
    "p = k1p.pubkey.point\n",
    "\n",
    "p2 = p + p\n",
    "\n",
    "k2p = ecdsa.VerifyingKey.from_public_point(p2, curve=ecdsa.SECP256k1)\n",
    "\n",
    "print(k2p.to_string().hex())\n",
    "# e0cf532282ef286226bec....\n",
    "# k2 = k1*2\n",
    "\n",
    "k2 = bytes.fromhex(\n",
    "  '375709cd0fc6ca29dd5eb402f861a6583eb3ba9d4cc53b4f2e1946e8a27ba00c'\n",
    ")\n",
    "\n",
    "k2p_from_prikey = ecdsa.SigningKey.from_string(k2, curve=ecdsa.SECP256k1)\\\n",
    "                                  .get_verifying_key()\n",
    "\n",
    "print(p2 == k2p_from_prikey.pubkey.point)\n",
    "# True\n"
   ]
  },
  {
   "cell_type": "markdown",
   "metadata": {},
   "source": [
    "## master private key の生成\n",
    "\n",
    "master private key は seed と key から Hmac-sha512 ハッシュを取得して 256 bit を master private key, のこりを master chain code として保存する。\n"
   ]
  },
  {
   "cell_type": "code",
   "execution_count": 5,
   "metadata": {},
   "outputs": [
    {
     "name": "stdout",
     "output_type": "stream",
     "text": [
      "m_prikey:  b681f32891f35b55034fc26d0317bffaf7b0ecc0f4058ca221e4bfc991cb4470\n",
      "m_pubkey:  4a467119fc2a0638eb762677fca69f6c92e8bd36dff87f30c553e4764c5fe10b7365c5190d5176d23c3956c8d0d5c2bb05406a0acdde77ab57d03851fe2b6646\n",
      "m_ccode :  39c759f2df91af229f2237ea6ed9eb102da188e68bcdab3b2913b215bfeae030\n"
     ]
    }
   ],
   "source": [
    "import hmac\n",
    "import hashlib\n",
    "import ecdsa\n",
    "from ecdsa import SECP256k1\n",
    "\n",
    "\n",
    "def hmac512(key, source):\n",
    "    if isinstance(source, str):\n",
    "        source = source.encode()\n",
    "    if isinstance(key, str):\n",
    "        key = key.encode()\n",
    "    return hmac.new(key, source, hashlib.sha512).digest()\n",
    "\n",
    "def prikey_and_ccode(key, seed):\n",
    "    ''' generate ECDSA private key of ecdsa lib and chain code as string'''\n",
    "    hmac = hmac512(key, seed)\n",
    "    prikey = hmac[:32]\n",
    "    prikey = ecdsa.SigningKey.from_string(prikey, curve=ecdsa.SECP256k1)\n",
    "    ccode = hmac[32:]\n",
    "    return prikey, ccode\n",
    "\n",
    "m_key, m_ccode = prikey_and_ccode('webauthn', 'techbookfest')\n",
    "m_pubkey = m_key.get_verifying_key()\n",
    "\n",
    "print(\"m_prikey: \", m_key.to_string().hex())\n",
    "print(\"m_pubkey: \", m_pubkey.to_string().hex())\n",
    "print(\"m_ccode : \", m_ccode.hex())\n"
   ]
  },
  {
   "cell_type": "markdown",
   "metadata": {},
   "source": [
    "## 子秘密鍵の作成\n",
    "\n",
    "子秘密鍵は、親公開鍵、インデックス、チェーンコードを利用して HMAC を計算し、その上位 256bit を親秘密鍵に加算して計算する。\n",
    "最初の子鍵は m/0 と表す。"
   ]
  },
  {
   "cell_type": "code",
   "execution_count": 6,
   "metadata": {},
   "outputs": [
    {
     "name": "stdout",
     "output_type": "stream",
     "text": [
      "deltakey  :  7a822fd6977e9011e3b4b116b2143ab64c92605c1c373dcd33bf643074bba2af\n",
      "deltakey  :  7a822fd6977e9011e3b4b116b2143ab64c92605c1c373dcd33bf643074bba2af\n",
      "m/0 prikey:  310422ff2971eb66e7047383b52bfab28994703660f42a3395d1c56d3650a5de\n",
      "m/0 pubkey:  adef0692801bed2606510b9eb1680d7b02882c88def3760851bc8e3ec152bd0ac6d187b85b082e215fa4b7c4f3b86ddc7382b35728bd6a6f0424d03f99ed2206\n",
      "m/0 ccode :  96524759775e8d3bb80858ef8e975311aa0a10e8f55d4596bf2e8c21cb37d047\n"
     ]
    }
   ],
   "source": [
    "def deltakey_and_ccode(index, pubkey, ccode):\n",
    "    source = pubkey + index\n",
    "    deltakey, child_ccode = prikey_and_ccode(key=ccode, seed=source)\n",
    "    return deltakey, child_ccode\n",
    "\n",
    "def child_key_and_ccode(index, prikey, ccode):\n",
    "    ''' generate childkey from prikey and chain code'''\n",
    "    pubkey = prikey.get_verifying_key().to_string()\n",
    "    deltakey, child_ccode = deltakey_and_ccode(index, pubkey, ccode)\n",
    "    print(\"deltakey  : \", deltakey.to_string().hex())\n",
    "    \n",
    "    child_key = add_secret_keys(\n",
    "                    prikey.to_string(),\n",
    "                    deltakey.to_string(),\n",
    "                    order=SECP256k1.order\n",
    "                )\n",
    "    child_key = ecdsa.SigningKey.from_string(child_key, curve=SECP256k1)\n",
    "    return child_key, child_ccode\n",
    "\n",
    "index = 0\n",
    "index = index.to_bytes(4,'big')\n",
    "\n",
    "deltakey, _ = deltakey_and_ccode(index, m_pubkey.to_string(), m_ccode)\n",
    "\n",
    "m_0_key, m_0_ccode = child_key_and_ccode(index, m_key, m_ccode)\n",
    "\n",
    "print(\"deltakey  : \", deltakey.to_string().hex())\n",
    "print(\"m/0 prikey: \", m_0_key.to_string().hex())\n",
    "print(\"m/0 pubkey: \", m_0_key.get_verifying_key().to_string().hex())\n",
    "print(\"m/0 ccode : \", m_0_ccode.hex())\n"
   ]
  },
  {
   "cell_type": "markdown",
   "metadata": {},
   "source": [
    "## 子鍵の子鍵を作成\n",
    "\n",
    "以降は同様に子鍵の子鍵の子鍵…と無限にキーペアを作成可能です。"
   ]
  },
  {
   "cell_type": "code",
   "execution_count": 7,
   "metadata": {},
   "outputs": [
    {
     "name": "stdout",
     "output_type": "stream",
     "text": [
      "deltakey  :  1aecd2129285d454e5892d456707dcc9dd43fe35c3ab36ae301f4526feb413c6\n",
      "m/0/1 prikey:  4bf0f511bbf7bfbbcc8da0c91c33d77c66d86e6c249f60e1c5f10a943504b9a4\n",
      "m/0/1 pubkey:  9d63574b6578babeb3c7b21bccbbc6ff3cd0de3391b662f14bebdb94706c03bcee1061395a9e1ec0f90734fb6129c8238da352380089052ccb54c723ca60ef47\n",
      "m/0/1 ccode :  6f14f270f19c7ac300f7fc5bbb6274ed974f36b4b5ecac60244a33d71a821043\n"
     ]
    }
   ],
   "source": [
    "index = 1\n",
    "index = index.to_bytes(4, 'big')\n",
    "m_0_1_key, m_0_1_ccode = child_key_and_ccode(index, m_0_key, m_0_ccode)\n",
    "\n",
    "print(\"m/0/1 prikey: \", m_0_1_key.to_string().hex())\n",
    "print(\"m/0/1 pubkey: \", m_0_1_key.get_verifying_key().to_string().hex())\n",
    "print(\"m/0/1 ccode : \", m_0_1_ccode.hex())\n"
   ]
  },
  {
   "cell_type": "markdown",
   "metadata": {},
   "source": [
    "## 拡張公開鍵\n",
    "\n",
    "公開鍵とチェーンコードから、子鍵の公開鍵を作成する"
   ]
  },
  {
   "cell_type": "code",
   "execution_count": 8,
   "metadata": {},
   "outputs": [
    {
     "name": "stdout",
     "output_type": "stream",
     "text": [
      "delta_pubkey: f2f2584425210aae1deca1803d019b941115a46d16c7d1cdf4279617da6e2f1b764d72e20e6471faeeb44c6b36161ac4c28a0e7a2973cd01f44b48d61a48ea6f\n",
      "m/0/1_pubkey: 9d63574b6578babeb3c7b21bccbbc6ff3cd0de3391b662f14bebdb94706c03bcee1061395a9e1ec0f90734fb6129c8238da352380089052ccb54c723ca60ef47\n"
     ]
    }
   ],
   "source": [
    "index = 1\n",
    "index = index.to_bytes(4, 'big')\n",
    "\n",
    "m_0_pubkey = m_0_key.get_verifying_key()\n",
    "\n",
    "m_0_1_deltakey, m_0_1_ccode = deltakey_and_ccode(index, m_0_pubkey.to_string(), m_0_ccode)\n",
    "m_0_1_delta_pubkey = m_0_1_deltakey.get_verifying_key()\n",
    "print(\"delta_pubkey:\", m_0_1_delta_pubkey.to_string().hex())\n",
    "\n",
    "m_0_1_deltakey_point = m_0_1_delta_pubkey.pubkey.point\n",
    "m_0_1_point = m_0_pubkey.pubkey.point + m_0_1_deltakey_point\n",
    "\n",
    "m_0_1_pubkey = ecdsa.VerifyingKey.from_public_point(m_0_1_point, curve=SECP256k1)\n",
    "\n",
    "print(\"m/0/1_pubkey:\",m_0_1_pubkey.to_string().hex())\n"
   ]
  },
  {
   "cell_type": "markdown",
   "metadata": {},
   "source": [
    "## バックアップ用 Authenticator のサンプル\n"
   ]
  },
  {
   "cell_type": "code",
   "execution_count": 9,
   "metadata": {},
   "outputs": [
    {
     "name": "stdout",
     "output_type": "stream",
     "text": [
      "======== master_key ==========\n",
      "is_prikey: True\n",
      "depth    : 0\n",
      "keyid    : \n",
      "prikey   : c0efe2a00cfe3d31fe84b0d72366842392fe374730d02dcc50e690284fafa863\n",
      "pubkey   : 323cea14302640267a9db642c9fab532167e5ef64d2b878dd4cb8b09251feb1755eca3378af50bab6e5fd156de6529d31d7e7f955e341616f783afe9fc3302b0\n",
      "credid   : \n",
      "ccode    : f96fe3c225726a7ee001dcd98349593a76f797ec5cde9abff844cb55ebf9f506\n",
      "\n",
      "======== pubkey_seed ==========\n",
      "is_prikey: False\n",
      "depth    : 1\n",
      "keyid    : 0ffef766d1b71fcbff0f9ab74897c5e7643b6b2c58e7f8ccb4e9cb702a4082c5\n",
      "prikey   : None\n",
      "pubkey   : 3b4d16303ad321a419eb3592938d74ec38e4e2b2a547f61822aceac676cfd958cc910c945ddc39dac972e4591803a2931463d5f2313273cedfd71a0a381e1ba6\n",
      "credid   : 0ffef766d1b71fcbff0f9ab74897c5e7643b6b2c58e7f8ccb4e9cb702a4082c5\n",
      "ccode    : f404e155ee040de440ac2b70476acf08eca27d834628b2424c91e16626d4958b\n",
      "\n",
      "======== app_pubkey ==========\n",
      "is_prikey: False\n",
      "depth    : 2\n",
      "keyid    : 2b6843358973630c02bf36f3534bd32b3264f126c849468177e81a63b149c751\n",
      "prikey   : None\n",
      "pubkey   : e090126664838d49f1d477ee540ebac5334116cb0d806cb577463bf8daf0199a48a711f3bb928d2de90eb6e9c6c4c3d0463a32c83863bed18a6311f77157112b\n",
      "credid   : 0ffef766d1b71fcbff0f9ab74897c5e7643b6b2c58e7f8ccb4e9cb702a4082c52b6843358973630c02bf36f3534bd32b3264f126c849468177e81a63b149c751\n",
      "ccode    : 36c73c5cd6640064cde080ed4aadbc8e2910884f09b172ab9bcb4e2fd516b941\n",
      "\n",
      "======== private key ==========\n",
      "is_prikey: True\n",
      "depth    : 2\n",
      "keyid    : 2b6843358973630c02bf36f3534bd32b3264f126c849468177e81a63b149c751\n",
      "prikey   : 3e3d8401dc3b90f5dfd644efd1c931c6d33df51a8644deff213385c46cfba49f\n",
      "pubkey   : e090126664838d49f1d477ee540ebac5334116cb0d806cb577463bf8daf0199a48a711f3bb928d2de90eb6e9c6c4c3d0463a32c83863bed18a6311f77157112b\n",
      "credid   : 0ffef766d1b71fcbff0f9ab74897c5e7643b6b2c58e7f8ccb4e9cb702a4082c52b6843358973630c02bf36f3534bd32b3264f126c849468177e81a63b149c751\n",
      "ccode    : 36c73c5cd6640064cde080ed4aadbc8e2910884f09b172ab9bcb4e2fd516b941\n",
      "\n",
      "========   result   ==========\n",
      "souce : nonce\n",
      "pubkey: e090126664838d49f1d477ee540ebac5334116cb0d806cb577463bf8daf0199a48a711f3bb928d2de90eb6e9c6c4c3d0463a32c83863bed18a6311f77157112b\n",
      "sign  : 43efaa4fb62cdc65cce9403822658ed3e6efb92dfbfcaa7e8e29ed1c6692ed80ab4dadc7699ebfac8cf489da84e839265905531bfcc455ec15528439de4123bb\n",
      "result: True\n"
     ]
    }
   ],
   "source": [
    "from ecdsa import SECP256k1\n",
    "from ecdsa.keys import SigningKey, VerifyingKey\n",
    "import secrets\n",
    "\n",
    "CURVE_ORDER = SECP256k1.order\n",
    "KEY_ID_LENGTH = 32\n",
    "HALF_KEY_ID_LENGTH = int(KEY_ID_LENGTH/2)\n",
    "CRED_ID_LENGTH = KEY_ID_LENGTH * 2\n",
    "\n",
    "class HDKey(object):\n",
    "    ''' extended key '''\n",
    "    def __init__(self,keyid, prikey, ccode, pubkey, is_prikey, parentId=None, depth=0):\n",
    "        self.depth = depth\n",
    "        self.is_prikey = is_prikey\n",
    "        self.keyid = keyid\n",
    "        self.credid = (parentId + keyid) if parentId else keyid\n",
    "        ccode_int = int.from_bytes(ccode, 'big')\n",
    "\n",
    "        if not ccode or ccode_int > CURVE_ORDER:\n",
    "            raise Exception('ccode must less than {}'.format(CURVE_ORDER))\n",
    "\n",
    "        self.ccode = ccode[:]\n",
    "\n",
    "        if is_prikey:\n",
    "            if not isinstance(prikey, SigningKey):\n",
    "                raise Exception('need prikey')\n",
    "            self.prikey = prikey\n",
    "            self.pubkey = prikey.get_verifying_key()\n",
    "        else:\n",
    "            self.pubkey = VerifyingKey.from_string(pubkey.to_string(), curve=pubkey.curve)\n",
    "    \n",
    "    def _child_key(self, keyid, include_prikey=False):\n",
    "        '''generate child key'''\n",
    "        if include_prikey:\n",
    "            if not self.is_prikey:\n",
    "                raise Exception('this key doesn\\'t include prikey')\n",
    "            return self._child_key_from_prikey(keyid)\n",
    "        else:\n",
    "            pubkey = self.pubkey\n",
    "            ccode = self.ccode\n",
    "            deltakey, child_ccode = deltakey_and_ccode(keyid, pubkey.to_string(), ccode)\n",
    "            deltakey_point = deltakey.get_verifying_key().pubkey.point\n",
    "            point = pubkey.pubkey.point + deltakey_point\n",
    "            child_key = ecdsa.VerifyingKey.from_public_point(point, curve=SECP256k1)\n",
    "            return HDKey(keyid=keyid, prikey=None,ccode=child_ccode, is_prikey=False, pubkey=child_key, parentId=self.keyid, depth=self.depth+1)\n",
    "\n",
    "    def _child_key_from_prikey(self, keyid):\n",
    "        ''' generate childkey from prikey and chain code'''\n",
    "        prikey = self.prikey\n",
    "        ccode = self.ccode\n",
    "        pubkey = prikey.get_verifying_key().to_string()\n",
    "\n",
    "        delta_key, child_ccode = deltakey_and_ccode(keyid, pubkey, ccode)\n",
    "\n",
    "        child_key_str = add_secret_keys(prikey.to_string(), delta_key.to_string(), order=SECP256k1.order)\n",
    "        child_key = ecdsa.SigningKey.from_string(child_key_str, curve=SECP256k1)\n",
    "        return HDKey(keyid=keyid, prikey=child_key, ccode=child_ccode, pubkey=None, parentId=self.keyid, is_prikey=True, depth=self.depth+1)\n",
    "\n",
    "    def _checksum(self, source, appid_hash=None):\n",
    "        if appid_hash:\n",
    "            s = source + appid_hash\n",
    "        else:\n",
    "            s = source\n",
    "        return hmac512(self.ccode, s)[:HALF_KEY_ID_LENGTH]\n",
    "\n",
    "    def _generateRandomKeyId(self, appid_hash=None):\n",
    "        keyid_L = secrets.token_bytes(HALF_KEY_ID_LENGTH)\n",
    "        \n",
    "        return keyid_L + self._checksum(keyid_L,appid_hash)\n",
    "\n",
    "    def _child_key_from_id(self, keyid, appid_hash=None):\n",
    "        if self.is_child_key_id(keyid, appid_hash):\n",
    "            return self._child_key(keyid,include_prikey=self.is_prikey)\n",
    "        else:\n",
    "            raise Exception('invalid keyid {}'.format(keyid.hex()))\n",
    "\n",
    "    def sign(self, source):\n",
    "        return self.prikey.sign(source)\n",
    "    \n",
    "    def verify(self, sign, source):\n",
    "        return self.pubkey.verify(sign, source)\n",
    "\n",
    "    def app_prikey(self, credid, appid_hash):\n",
    "        if not self.is_prikey:\n",
    "            raise Exception('this key doesn\\'t prikey') \n",
    "\n",
    "        if len(credid) == CRED_ID_LENGTH:\n",
    "            childkey = self._child_key_from_id(credid[:KEY_ID_LENGTH])\n",
    "            prikey = childkey._child_key_from_id(credid[KEY_ID_LENGTH:], appid_hash)\n",
    "            return prikey\n",
    "        else:\n",
    "            return None\n",
    "\n",
    "    def pubkey_seed(self):\n",
    "        child_keyid = self._generateRandomKeyId()\n",
    "        return self._child_key(child_keyid,include_prikey=False)\n",
    "\n",
    "    def app_pubkey(self, appid_hash):\n",
    "        if not self.depth == 1:\n",
    "            raise Exception('app pubkey should be generated by child key')\n",
    "        elif not appid_hash:\n",
    "            raise Exception('required appid_hash to generate app pubkey')\n",
    "        else:\n",
    "            child_keyid = self._generateRandomKeyId(appid_hash=appid_hash)\n",
    "            return self._child_key(child_keyid,include_prikey=False)\n",
    "\n",
    "    def is_child_key_id(self, keyid, appid_hash=None):\n",
    "        keyid_L = keyid[:HALF_KEY_ID_LENGTH]\n",
    "        keyid_R = keyid[HALF_KEY_ID_LENGTH:]\n",
    "\n",
    "        return keyid_R == self._checksum(keyid_L, appid_hash=appid_hash)\n",
    "\n",
    "    def print_debug(self):\n",
    "        print(str(self))\n",
    "\n",
    "    def __str__(self):\n",
    "        s = '''is_prikey: {}\n",
    "depth    : {}\n",
    "keyid    : {}\n",
    "prikey   : {}\n",
    "pubkey   : {}\n",
    "credid   : {}\n",
    "ccode    : {}\n",
    "'''\n",
    "        return s.format(self.is_prikey, self.depth, self.keyid.hex(), self.prikey.to_string().hex() if self.is_prikey else None, self.pubkey.to_string().hex(), self.credid.hex(), self.ccode.hex())\n",
    "\n",
    "m_key, m_ccode = prikey_and_ccode('webauthn', 'seed')\n",
    "master_key_index = 0\n",
    "master_key = HDKey(keyid=master_key_index.to_bytes(0, 'big'), prikey=m_key, ccode=m_ccode, pubkey=None, is_prikey=True)\n",
    "\n",
    "print(\"======== master_key ==========\")\n",
    "\n",
    "master_key.print_debug()\n",
    "\n",
    "print(\"======== pubkey_seed ==========\")\n",
    "\n",
    "pubkey_seed = master_key.pubkey_seed()\n",
    "\n",
    "pubkey_seed.print_debug()\n",
    "\n",
    "print(\"======== app_pubkey ==========\")\n",
    "\n",
    "appid = 'https://example.com'\n",
    "\n",
    "appid_hash = hashlib.sha256(appid.encode()).digest()\n",
    "\n",
    "app_pubkey=pubkey_seed.app_pubkey(appid_hash)\n",
    "\n",
    "app_pubkey.print_debug()\n",
    "\n",
    "print(\"======== private key ==========\")\n",
    "\n",
    "prikey = master_key.app_prikey(app_pubkey.credid, appid_hash)\n",
    "\n",
    "prikey.print_debug()\n",
    "\n",
    "source = 'nonce'.encode()\n",
    "sign = prikey.sign(source)\n",
    "result = app_pubkey.verify(sign, source)\n",
    "\n",
    "print(\"========   result   ==========\")\n",
    "\n",
    "print('souce :','nonce')\n",
    "print('pubkey:', app_pubkey.pubkey.to_string().hex())\n",
    "print('sign  :', sign.hex())\n",
    "print('result:', result)\n"
   ]
  }
 ],
 "metadata": {
  "kernelspec": {
   "display_name": "Python 3",
   "language": "python",
   "name": "python3"
  },
  "language_info": {
   "codemirror_mode": {
    "name": "ipython",
    "version": 3
   },
   "file_extension": ".py",
   "mimetype": "text/x-python",
   "name": "python",
   "nbconvert_exporter": "python",
   "pygments_lexer": "ipython3",
   "version": "3.6.2"
  }
 },
 "nbformat": 4,
 "nbformat_minor": 2
}
